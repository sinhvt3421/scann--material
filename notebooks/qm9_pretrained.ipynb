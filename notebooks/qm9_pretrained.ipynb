{
 "cells": [
  {
   "attachments": {},
   "cell_type": "markdown",
   "id": "b1d63439",
   "metadata": {},
   "source": [
    "## Load pretrained model on QM9 and predict "
   ]
  },
  {
   "cell_type": "code",
   "execution_count": null,
   "id": "0b90c195",
   "metadata": {},
   "outputs": [],
   "source": [
    "import os\n",
    "import sys\n",
    "module_path = os.path.abspath(os.path.join('..'))\n",
    "if module_path not in sys.path:\n",
    "    sys.path.append(module_path)"
   ]
  },
  {
   "cell_type": "code",
   "execution_count": null,
   "id": "8a9cf86f",
   "metadata": {},
   "outputs": [],
   "source": [
    "import os\n",
    "os.environ['TF_CPP_MIN_LOG_LEVEL'] = '3'\n",
    "import tensorflow as tf\n",
    "import numpy as np\n",
    "from scannet.models import SCANNet\n",
    "from utils.general import process_xyz, prepare_input"
   ]
  },
  {
   "cell_type": "code",
   "execution_count": null,
   "id": "a8fd32ad",
   "metadata": {},
   "outputs": [],
   "source": [
    "# model path for QM9 property\n",
    "model_path = '../pretrained_models/qm9/homo/model.h5'\n",
    "model_load = SCANNet.load_model_infer(model_path)"
   ]
  },
  {
   "attachments": {},
   "cell_type": "markdown",
   "id": "f5d73d0c",
   "metadata": {},
   "source": [
    "### Predict from xyz files"
   ]
  },
  {
   "cell_type": "code",
   "execution_count": null,
   "id": "58f400fd",
   "metadata": {},
   "outputs": [],
   "source": [
    "name = 'Thymine'\n",
    "struct = process_xyz('../experiments/molecules/{}.xyz'.format(name))\n",
    "# Computing Neighbor from Voronoi tessalation with cutoff threshold\n",
    "ip = prepare_input(struct, use_ring=True,\n",
    "                   w_t=0.2, d_t=4.0)"
   ]
  },
  {
   "cell_type": "code",
   "execution_count": null,
   "id": "dac9c1b5-80ef-4cab-8c27-4699d7376f1b",
   "metadata": {},
   "outputs": [],
   "source": [
    "energy, ga_scores = model_load.predict(ip)\n",
    "print(energy)"
   ]
  },
  {
   "cell_type": "code",
   "execution_count": null,
   "id": "21b110e2-a69f-463a-b19e-fd688e478a68",
   "metadata": {},
   "outputs": [],
   "source": [
    "ga_scores = np.squeeze(ga_scores)\n",
    "# Showing atom and corresponding global attention score for property\n",
    "for i in range(len(struct['Atoms'])):\n",
    "    print(struct['Atoms'][i], ga_scores[i])"
   ]
  },
  {
   "cell_type": "code",
   "execution_count": null,
   "id": "effde3c0-0950-4dd1-9936-d87a385c2578",
   "metadata": {},
   "outputs": [],
   "source": [
    "# Export prediction result to xyz file for Visualization using Ovito\n",
    "with open('visualize/{}_homo.xyz'.format(name), 'w') as f:\n",
    "    f.write(str(len(struct['Atoms'])) + '\\n')\n",
    "    f.write('XXX \\n')\n",
    "    for i in range(len(struct['Atoms'])):\n",
    "        f.write('{}\\t{}\\t{}\\t{}\\t{}\\n'.format(struct['Atoms'][i], struct['Coords'][i][0],\n",
    "            struct['Coords'][i][1], struct['Coords'][i][2],\n",
    "            ga_scores[i]))"
   ]
  },
  {
   "cell_type": "code",
   "execution_count": null,
   "id": "e037f192-cacc-4d4b-8ec2-672442560513",
   "metadata": {},
   "outputs": [],
   "source": []
  }
 ],
 "metadata": {
  "kernelspec": {
   "display_name": "py36",
   "language": "python",
   "name": "python3"
  },
  "language_info": {
   "codemirror_mode": {
    "name": "ipython",
    "version": 3
   },
   "file_extension": ".py",
   "mimetype": "text/x-python",
   "name": "python",
   "nbconvert_exporter": "python",
   "pygments_lexer": "ipython3",
   "version": "3.6.9"
  },
  "vscode": {
   "interpreter": {
    "hash": "675fe6b7e7c84c2c9cb702e8b396c2867eb017379ea27e9776f607a322f9f54e"
   }
  }
 },
 "nbformat": 4,
 "nbformat_minor": 5
}
